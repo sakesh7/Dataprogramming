{
 "cells": [
  {
   "cell_type": "markdown",
   "metadata": {},
   "source": [
    "<h1>Chapter 2<h1>"
   ]
  },
  {
   "cell_type": "code",
   "execution_count": 1,
   "metadata": {},
   "outputs": [
    {
     "name": "stdout",
     "output_type": "stream",
     "text": [
      "Enter name: sakesh\n",
      "hello sakesh\n"
     ]
    }
   ],
   "source": [
    "name = input(\"Enter name: \")\n",
    "print(\"hello \"+name)"
   ]
  },
  {
   "cell_type": "code",
   "execution_count": 2,
   "metadata": {},
   "outputs": [
    {
     "name": "stdout",
     "output_type": "stream",
     "text": [
      "Enter Hours: 35\n",
      "Enter Rate: 2.75\n",
      "pay: 96.25\n"
     ]
    }
   ],
   "source": [
    "hours = int(input(\"Enter Hours: \"))\n",
    "rate = float(input(\"Enter Rate: \"))\n",
    "pay =hours*rate  \n",
    "print(\"pay: \"+str(pay))"
   ]
  },
  {
   "cell_type": "code",
   "execution_count": 7,
   "metadata": {},
   "outputs": [
    {
     "name": "stdout",
     "output_type": "stream",
     "text": [
      "width: 17\n",
      "height: 12.0\n",
      "8\n",
      "<class 'int'>\n",
      "8.5\n",
      "<class 'float'>\n",
      "4.0\n",
      "<class 'float'>\n",
      "11\n",
      "<class 'int'>\n"
     ]
    }
   ],
   "source": [
    "width = int(input(\"width: \"))\n",
    "height = float(input(\"height: \"))\n",
    "print(width//2)\n",
    "print(type(width//2))\n",
    "print(width/2)\n",
    "print(type(width/2))\n",
    "print(height/3)\n",
    "print(type(height/3))\n",
    "print(1+2*5)\n",
    "print(type(1+2*5))"
   ]
  },
  {
   "cell_type": "code",
   "execution_count": 12,
   "metadata": {},
   "outputs": [
    {
     "name": "stdout",
     "output_type": "stream",
     "text": [
      "Enter Celsius Temperature: 17\n",
      "Fahreinheit Temperature is: 62\n"
     ]
    }
   ],
   "source": [
    "celsius = int(input(\"Enter Celsius Temperature: \"))\n",
    "fahreinheit = int(celsius*9/5+32)\n",
    "print(\"Fahreinheit Temperature is: \"+str(fahreinheit))"
   ]
  },
  {
   "cell_type": "markdown",
   "metadata": {},
   "source": [
    "<h1>Chapter 3<h1>"
   ]
  },
  {
   "cell_type": "code",
   "execution_count": 16,
   "metadata": {},
   "outputs": [
    {
     "name": "stdout",
     "output_type": "stream",
     "text": [
      "Enter number of hours worked: 45\n",
      "Enter hourly rate: 10\n",
      "Pay: 475.0\n"
     ]
    }
   ],
   "source": [
    "hours= int(input(\"Enter number of hours worked: \"))\n",
    "rate = int(input(\"Enter hourly rate: \"))\n",
    "\n",
    "if(hours>40):\n",
    "    pay = 40*rate+(hours-40)*(rate*1.5)\n",
    "else:\n",
    "    pay = hours*rate\n",
    "\n",
    "print(\"Pay: \"+str(pay))"
   ]
  },
  {
   "cell_type": "code",
   "execution_count": 23,
   "metadata": {},
   "outputs": [
    {
     "name": "stdout",
     "output_type": "stream",
     "text": [
      "Enter number of hours worked: 20\n",
      "Enter hourly rate: nine\n",
      "Error, please enter a numeric input\n"
     ]
    }
   ],
   "source": [
    "try:\n",
    "    hours= int(input(\"Enter number of hours worked: \"))\n",
    "    rate = int(input(\"Enter hourly rate: \"))\n",
    "    if(hours>40):\n",
    "        pay = 40*rate+(hours-40)*(rate*1.5)\n",
    "    else:\n",
    "        pay = hours*rate\n",
    "\n",
    "    print(\"Pay: \"+str(pay))\n",
    "except:\n",
    "    print(\"Error, please enter a numeric input\")\n"
   ]
  },
  {
   "cell_type": "code",
   "execution_count": 31,
   "metadata": {},
   "outputs": [
    {
     "name": "stdout",
     "output_type": "stream",
     "text": [
      "Enter your score between 0.0 and 1.0: perfect\n",
      "Bad Score\n"
     ]
    }
   ],
   "source": [
    "try:\n",
    "    score = float(input(\"Enter your score between 0.0 and 1.0: \"))\n",
    "    if(score>=0.0 and score<=1.0):\n",
    "        if(score>=0.9):\n",
    "            print(\"A\")\n",
    "        elif(score>=0.8):\n",
    "            print(\"B\")\n",
    "        elif(score>=0.7):\n",
    "            print(\"C\")\n",
    "        elif(score>=0.6):\n",
    "            print(\"D\")\n",
    "        else:\n",
    "            print(\"F\")\n",
    "    else:\n",
    "        print(\"Bad Score\")\n",
    "except:\n",
    "    print(\"Bad Score\")"
   ]
  },
  {
   "cell_type": "markdown",
   "metadata": {},
   "source": [
    "<h1>Chapter 4<h1>"
   ]
  },
  {
   "cell_type": "code",
   "execution_count": 40,
   "metadata": {},
   "outputs": [
    {
     "name": "stdout",
     "output_type": "stream",
     "text": [
      "ABC\n",
      "Zap\n",
      "ABC\n"
     ]
    }
   ],
   "source": [
    "def fred():\n",
    "    print(\"Zap\")\n",
    "    \n",
    "def jane():\n",
    "    print(\"ABC\")\n",
    "    \n",
    "jane()\n",
    "fred()\n",
    "jane()\n"
   ]
  },
  {
   "cell_type": "code",
   "execution_count": 52,
   "metadata": {},
   "outputs": [
    {
     "name": "stdout",
     "output_type": "stream",
     "text": [
      "Enter number of hours worked: 45\n",
      "Enter hourly rate: 10\n",
      "Pay: 475.0\n"
     ]
    }
   ],
   "source": [
    "def computepay(hours,rate):\n",
    "    try:\n",
    "        hours = int(hours)\n",
    "        rate = int(rate)\n",
    "        if(hours>40):\n",
    "            pay = 40*rate+(hours-40)*(rate*1.5)\n",
    "        else:\n",
    "            pay = hours*rate\n",
    "\n",
    "        print(\"Pay: \"+str(pay))\n",
    "    except:\n",
    "        print(\"Error, please enter a numeric input\")\n",
    "\n",
    "hours= input(\"Enter number of hours worked: \")\n",
    "rate = input(\"Enter hourly rate: \")\n",
    "computepay(hours,rate)"
   ]
  },
  {
   "cell_type": "code",
   "execution_count": 5,
   "metadata": {},
   "outputs": [
    {
     "name": "stdout",
     "output_type": "stream",
     "text": [
      "Enter your score between 0.0 and 1.0: 0.4\n",
      "F\n"
     ]
    }
   ],
   "source": [
    "def computegrade(score):\n",
    "    try:\n",
    "        score = float(score)\n",
    "        if(score>=0.0 and score<=1.0):\n",
    "            if(score>=0.9):\n",
    "                print(\"A\")\n",
    "            elif(score>=0.8):\n",
    "                print(\"B\")\n",
    "            elif(score>=0.7):\n",
    "                print(\"C\")\n",
    "            elif(score>=0.6):\n",
    "                print(\"D\")\n",
    "            else:\n",
    "                print(\"F\")\n",
    "        else:\n",
    "            print(\"Bad Score\")\n",
    "    except:\n",
    "        print(\"Bad Score\")\n",
    "score = input(\"Enter your score between 0.0 and 1.0: \")\n",
    "computegrade(score)\n"
   ]
  },
  {
   "cell_type": "code",
   "execution_count": null,
   "metadata": {},
   "outputs": [],
   "source": []
  }
 ],
 "metadata": {
  "kernelspec": {
   "display_name": "Python 3",
   "language": "python",
   "name": "python3"
  },
  "language_info": {
   "codemirror_mode": {
    "name": "ipython",
    "version": 3
   },
   "file_extension": ".py",
   "mimetype": "text/x-python",
   "name": "python",
   "nbconvert_exporter": "python",
   "pygments_lexer": "ipython3",
   "version": "3.7.3"
  }
 },
 "nbformat": 4,
 "nbformat_minor": 2
}
